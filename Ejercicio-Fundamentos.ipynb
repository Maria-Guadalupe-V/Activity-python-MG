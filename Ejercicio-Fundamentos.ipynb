{
 "cells": [
  {
   "cell_type": "markdown",
   "id": "398af96f-11a9-41c9-9d42-d1739e791cec",
   "metadata": {},
   "source": [
    "## Ejercicio Fundamentos"
   ]
  },
  {
   "cell_type": "code",
   "execution_count": 1,
   "id": "8727b3e4-b60f-4157-8b2e-117f4506fac3",
   "metadata": {},
   "outputs": [
    {
     "name": "stdout",
     "output_type": "stream",
     "text": [
      "333\n",
      "<class 'int'>\n"
     ]
    }
   ],
   "source": [
    "my_number = 333\n",
    "print(my_number)\n",
    "print(type(my_number))"
   ]
  },
  {
   "cell_type": "code",
   "execution_count": 2,
   "id": "01471602-5c11-4104-add8-1da97963c9cf",
   "metadata": {},
   "outputs": [
    {
     "name": "stdout",
     "output_type": "stream",
     "text": [
      "45.7\n",
      "<class 'float'>\n"
     ]
    }
   ],
   "source": [
    "my_float = 45.7\n",
    "print(my_float)\n",
    "print(type(my_float))"
   ]
  },
  {
   "cell_type": "code",
   "execution_count": 5,
   "id": "341881d4-3885-4b60-bd28-4c7747588e20",
   "metadata": {},
   "outputs": [
    {
     "name": "stdin",
     "output_type": "stream",
     "text": [
      "Ingresa un numero:  33\n"
     ]
    },
    {
     "name": "stdout",
     "output_type": "stream",
     "text": [
      "<class 'str'>\n"
     ]
    }
   ],
   "source": [
    "my_input = input(\"Ingresa un numero: \") \n",
    "print(type(my_input))"
   ]
  },
  {
   "cell_type": "code",
   "execution_count": null,
   "id": "11f38db0-6257-4577-ae8f-af155af0aba4",
   "metadata": {},
   "outputs": [],
   "source": []
  },
  {
   "cell_type": "code",
   "execution_count": null,
   "id": "aee06742-9f3d-4006-b0bf-14a3e2344efb",
   "metadata": {},
   "outputs": [],
   "source": []
  }
 ],
 "metadata": {
  "kernelspec": {
   "display_name": "Python 3 (ipykernel)",
   "language": "python",
   "name": "python3"
  },
  "language_info": {
   "codemirror_mode": {
    "name": "ipython",
    "version": 3
   },
   "file_extension": ".py",
   "mimetype": "text/x-python",
   "name": "python",
   "nbconvert_exporter": "python",
   "pygments_lexer": "ipython3",
   "version": "3.12.4"
  }
 },
 "nbformat": 4,
 "nbformat_minor": 5
}
