{
 "cells": [
  {
   "cell_type": "markdown",
   "id": "a9f44a4f-da3e-4308-9296-634af4ea7c12",
   "metadata": {},
   "source": [
    "## python distingue entre mayusculas y minusculas"
   ]
  },
  {
   "cell_type": "code",
   "execution_count": 3,
   "id": "807bee07-85bf-4ae4-ab7a-2632280c05fe",
   "metadata": {},
   "outputs": [
    {
     "name": "stdout",
     "output_type": "stream",
     "text": [
      "El cuso es:  Backend python\n"
     ]
    }
   ],
   "source": [
    "A = \"Backend python\"\n",
    "print (\"El cuso es: \" ,A)"
   ]
  },
  {
   "cell_type": "code",
   "execution_count": 4,
   "id": "2828aef0-9d52-4e4d-89ef-9ff8cc1972fd",
   "metadata": {},
   "outputs": [
    {
     "ename": "NameError",
     "evalue": "name 'a' is not defined",
     "output_type": "error",
     "traceback": [
      "\u001b[1;31m---------------------------------------------------------------------------\u001b[0m",
      "\u001b[1;31mNameError\u001b[0m                                 Traceback (most recent call last)",
      "Cell \u001b[1;32mIn[4], line 2\u001b[0m\n\u001b[0;32m      1\u001b[0m A \u001b[38;5;241m=\u001b[39m \u001b[38;5;124m\"\u001b[39m\u001b[38;5;124mBackend python\u001b[39m\u001b[38;5;124m\"\u001b[39m\n\u001b[1;32m----> 2\u001b[0m \u001b[38;5;28mprint\u001b[39m (\u001b[38;5;124m\"\u001b[39m\u001b[38;5;124mEl curso es: \u001b[39m\u001b[38;5;124m\"\u001b[39m,a)\n",
      "\u001b[1;31mNameError\u001b[0m: name 'a' is not defined"
     ]
    }
   ],
   "source": [
    "A = \"Backend python\"\n",
    "print (\"El curso es: \",a)"
   ]
  },
  {
   "cell_type": "code",
   "execution_count": 5,
   "id": "14ddc0e5-474f-4475-9ffe-a1d7ccd461f0",
   "metadata": {},
   "outputs": [
    {
     "name": "stdout",
     "output_type": "stream",
     "text": [
      "El curso es:  Backend python\n"
     ]
    }
   ],
   "source": [
    "a = \"Backend python\"\n",
    "print (\"El curso es: \",a)"
   ]
  },
  {
   "cell_type": "markdown",
   "id": "fa01c195-7f72-40a6-94d1-c3761ca7b0be",
   "metadata": {},
   "source": [
    "## palabras reservadas en python"
   ]
  },
  {
   "cell_type": "code",
   "execution_count": 13,
   "id": "7922eab3-7a81-4233-a271-be304d9312db",
   "metadata": {},
   "outputs": [
    {
     "name": "stdout",
     "output_type": "stream",
     "text": [
      "\n",
      "Here is a list of the Python keywords.  Enter any keyword to get more help.\n",
      "\n",
      "False               class               from                or\n",
      "None                continue            global              pass\n",
      "True                def                 if                  raise\n",
      "and                 del                 import              return\n",
      "as                  elif                in                  try\n",
      "assert              else                is                  while\n",
      "async               except              lambda              with\n",
      "await               finally             nonlocal            yield\n",
      "break               for                 not                 \n",
      "\n"
     ]
    }
   ],
   "source": [
    "help (\"keywords\")"
   ]
  },
  {
   "cell_type": "markdown",
   "id": "fe530e1f-bd4b-400e-83f1-7d51ab9bd4b6",
   "metadata": {},
   "source": [
    "### caracteres de escape en python "
   ]
  },
  {
   "cell_type": "code",
   "execution_count": 7,
   "id": "ec4a62f7-f13c-49d8-a3f1-7c84d4c45ea5",
   "metadata": {},
   "outputs": [
    {
     "data": {
      "text/plain": [
       "\"'\""
      ]
     },
     "execution_count": 7,
     "metadata": {},
     "output_type": "execute_result"
    }
   ],
   "source": [
    "\"\\'\" #single quote/ comila sensilla"
   ]
  },
  {
   "cell_type": "code",
   "execution_count": 8,
   "id": "04151860-a086-40e2-97d1-21eeff868831",
   "metadata": {},
   "outputs": [
    {
     "data": {
      "text/plain": [
       "\"'\""
      ]
     },
     "execution_count": 8,
     "metadata": {},
     "output_type": "execute_result"
    }
   ],
   "source": [
    "\"\\'\""
   ]
  },
  {
   "cell_type": "code",
   "execution_count": 9,
   "id": "e4b02a2d-c6ab-47a2-a706-d2cff286c517",
   "metadata": {},
   "outputs": [
    {
     "data": {
      "text/plain": [
       "\"'\""
      ]
     },
     "execution_count": 9,
     "metadata": {},
     "output_type": "execute_result"
    }
   ],
   "source": [
    "'\\''"
   ]
  },
  {
   "cell_type": "code",
   "execution_count": 10,
   "id": "9aed08c5-8e53-4eec-88fd-8e85a38951bc",
   "metadata": {},
   "outputs": [
    {
     "ename": "SyntaxError",
     "evalue": "incomplete input (3857640367.py, line 1)",
     "output_type": "error",
     "traceback": [
      "\u001b[1;36m  Cell \u001b[1;32mIn[10], line 1\u001b[1;36m\u001b[0m\n\u001b[1;33m    '''\u001b[0m\n\u001b[1;37m    ^\u001b[0m\n\u001b[1;31mSyntaxError\u001b[0m\u001b[1;31m:\u001b[0m incomplete input\n"
     ]
    }
   ],
   "source": [
    "''' # Error"
   ]
  },
  {
   "cell_type": "code",
   "execution_count": 11,
   "id": "067766c5-5386-4698-a299-90393134b8a0",
   "metadata": {},
   "outputs": [
    {
     "data": {
      "text/plain": [
       "'\"'"
      ]
     },
     "execution_count": 11,
     "metadata": {},
     "output_type": "execute_result"
    }
   ],
   "source": [
    "\"\\\"\" #double quote / comilla doble"
   ]
  },
  {
   "cell_type": "code",
   "execution_count": 12,
   "id": "5b2c0d27-17d0-4d06-bade-b62aab4e9a78",
   "metadata": {},
   "outputs": [
    {
     "ename": "SyntaxError",
     "evalue": "incomplete input (969763094.py, line 1)",
     "output_type": "error",
     "traceback": [
      "\u001b[1;36m  Cell \u001b[1;32mIn[12], line 1\u001b[1;36m\u001b[0m\n\u001b[1;33m    \"\"\"\u001b[0m\n\u001b[1;37m    ^\u001b[0m\n\u001b[1;31mSyntaxError\u001b[0m\u001b[1;31m:\u001b[0m incomplete input\n"
     ]
    }
   ],
   "source": [
    "\"\"\" # Error"
   ]
  },
  {
   "cell_type": "code",
   "execution_count": 13,
   "id": "6a287057-fc3f-4545-9383-303469f2bb44",
   "metadata": {},
   "outputs": [
    {
     "data": {
      "text/plain": [
       "'\\n'"
      ]
     },
     "execution_count": 13,
     "metadata": {},
     "output_type": "execute_result"
    }
   ],
   "source": [
    "\"\\n\" # new line / salto de linea"
   ]
  },
  {
   "cell_type": "code",
   "execution_count": 14,
   "id": "66195426-00b4-497b-b0db-856aa18b765e",
   "metadata": {},
   "outputs": [
    {
     "name": "stdout",
     "output_type": "stream",
     "text": [
      "Backend Python De EBAC\n"
     ]
    }
   ],
   "source": [
    "my_course = \"Backend Python De EBAC\"\n",
    "print (my_course)"
   ]
  },
  {
   "cell_type": "code",
   "execution_count": 15,
   "id": "d65855e2-c86d-470b-be4f-ac6b7f8d0b77",
   "metadata": {},
   "outputs": [
    {
     "name": "stdout",
     "output_type": "stream",
     "text": [
      "Backend Python\n",
      "De EBAC\n"
     ]
    }
   ],
   "source": [
    "my_course = \"Backend Python\\nDe EBAC\"\n",
    "print (my_course)"
   ]
  },
  {
   "cell_type": "code",
   "execution_count": 16,
   "id": "c0f6d99c-76bf-4d67-b3c0-e040564439d3",
   "metadata": {},
   "outputs": [
    {
     "name": "stdout",
     "output_type": "stream",
     "text": [
      "Backend\n",
      "Python\n",
      "De EBAC\n"
     ]
    }
   ],
   "source": [
    "my_course = \"Backend\\nPython\\nDe EBAC\"\n",
    "print (my_course)"
   ]
  },
  {
   "cell_type": "code",
   "execution_count": 17,
   "id": "6a7a2a90-582d-4fcf-b976-9f29a1aa3348",
   "metadata": {},
   "outputs": [
    {
     "data": {
      "text/plain": [
       "'\\t'"
      ]
     },
     "execution_count": 17,
     "metadata": {},
     "output_type": "execute_result"
    }
   ],
   "source": [
    "\"\\t\" #tab"
   ]
  },
  {
   "cell_type": "code",
   "execution_count": 18,
   "id": "34b74870-4e67-4370-81d5-e1a24eb5fd72",
   "metadata": {},
   "outputs": [
    {
     "name": "stdout",
     "output_type": "stream",
     "text": [
      "Backend Python De EBAC\n"
     ]
    }
   ],
   "source": [
    "my_course = \"Backend Python De EBAC\"\n",
    "print (my_course)"
   ]
  },
  {
   "cell_type": "code",
   "execution_count": 19,
   "id": "68b49c5c-ab77-46a0-930c-1ff31e7c5048",
   "metadata": {},
   "outputs": [
    {
     "name": "stdout",
     "output_type": "stream",
     "text": [
      "Backend Python\tDe EBAC\n"
     ]
    }
   ],
   "source": [
    "my_course = \"Backend Python\\tDe EBAC\"\n",
    "print (my_course)"
   ]
  },
  {
   "cell_type": "code",
   "execution_count": 20,
   "id": "d41e9224-cb79-4b1c-9309-4ff23c68ff91",
   "metadata": {},
   "outputs": [
    {
     "name": "stdout",
     "output_type": "stream",
     "text": [
      "Backend\tPython\tDe EBAC\n"
     ]
    }
   ],
   "source": [
    "my_course = \"Backend\\tPython\\tDe EBAC\"\n",
    "print (my_course)"
   ]
  },
  {
   "cell_type": "code",
   "execution_count": 21,
   "id": "67301726-05b3-4651-b68d-69b3b1dc0fcd",
   "metadata": {},
   "outputs": [
    {
     "data": {
      "text/plain": [
       "'\\r'"
      ]
     },
     "execution_count": 21,
     "metadata": {},
     "output_type": "execute_result"
    }
   ],
   "source": [
    "\"\\r\" #carrige return/ retorno de carro"
   ]
  },
  {
   "cell_type": "code",
   "execution_count": 22,
   "id": "26ede57c-0eb1-478e-851b-39d916788475",
   "metadata": {},
   "outputs": [
    {
     "name": "stdout",
     "output_type": "stream",
     "text": [
      "Backend Python De EBAC\n"
     ]
    }
   ],
   "source": [
    "my_course = \"Backend Python De EBAC\"\n",
    "print (my_course)"
   ]
  },
  {
   "cell_type": "code",
   "execution_count": 23,
   "id": "fa4e87f6-cb79-4ebd-8837-60e52a0d7e86",
   "metadata": {},
   "outputs": [
    {
     "name": "stdout",
     "output_type": "stream",
     "text": [
      "Python De EBAC\n"
     ]
    }
   ],
   "source": [
    "my_course = \"Backend\\rPython De EBAC\"\n",
    "print (my_course)"
   ]
  },
  {
   "cell_type": "code",
   "execution_count": 24,
   "id": "e25fd9d5-f493-43d6-a0ef-6c2e6d01740c",
   "metadata": {},
   "outputs": [
    {
     "name": "stdout",
     "output_type": "stream",
     "text": [
      "De EBAC\n"
     ]
    }
   ],
   "source": [
    "my_course = \"Backend\\rPython\\rDe EBAC\"\n",
    "print (my_course)"
   ]
  },
  {
   "cell_type": "code",
   "execution_count": 25,
   "id": "55b78d23-c666-4d2e-80fc-d4be68332c9f",
   "metadata": {},
   "outputs": [
    {
     "data": {
      "text/plain": [
       "'\\x08'"
      ]
     },
     "execution_count": 25,
     "metadata": {},
     "output_type": "execute_result"
    }
   ],
   "source": [
    "\"\\b\" #back space/ retorno"
   ]
  },
  {
   "cell_type": "code",
   "execution_count": 26,
   "id": "68024611-b134-4686-a93d-81c3a938c210",
   "metadata": {},
   "outputs": [
    {
     "name": "stdout",
     "output_type": "stream",
     "text": [
      "Backend Python De EBAC\n"
     ]
    }
   ],
   "source": [
    "my_course = \"Backend Python De EBAC\"\n",
    "print (my_course)"
   ]
  },
  {
   "cell_type": "code",
   "execution_count": 28,
   "id": "38011e0c-e0d8-4893-9f61-d6009574a993",
   "metadata": {},
   "outputs": [
    {
     "name": "stdout",
     "output_type": "stream",
     "text": [
      "BackenPython De EBAC\n"
     ]
    }
   ],
   "source": [
    "my_course = \"Backend\\bPython De EBAC\"\n",
    "# va a eliminar la 'd' \n",
    "print (my_course)"
   ]
  },
  {
   "cell_type": "code",
   "execution_count": 29,
   "id": "428942fc-e062-46bb-b00b-9d4b218f0606",
   "metadata": {},
   "outputs": [
    {
     "name": "stdout",
     "output_type": "stream",
     "text": [
      "BackenPythoDe EBAC\n"
     ]
    }
   ],
   "source": [
    "my_course = \"Backend\\bPython\\bDe EBAC\"\n",
    "# va a eliminar la 'd' y la 'n'\n",
    "print (my_course)"
   ]
  },
  {
   "cell_type": "code",
   "execution_count": 31,
   "id": "1941447e-f331-48eb-b9dc-82c503b7010e",
   "metadata": {},
   "outputs": [
    {
     "name": "stderr",
     "output_type": "stream",
     "text": [
      "<>:1: SyntaxWarning: invalid escape sequence '\\o'\n",
      "<>:1: SyntaxWarning: invalid escape sequence '\\o'\n",
      "C:\\Users\\Sony Vaio\\AppData\\Local\\Temp\\ipykernel_13920\\2308262743.py:1: SyntaxWarning: invalid escape sequence '\\o'\n",
      "  \"\\ooo\" #Octal\n"
     ]
    },
    {
     "data": {
      "text/plain": [
       "'\\\\ooo'"
      ]
     },
     "execution_count": 31,
     "metadata": {},
     "output_type": "execute_result"
    }
   ],
   "source": [
    "\"\\ooo\" #Octal"
   ]
  },
  {
   "cell_type": "code",
   "execution_count": 32,
   "id": "5fe743f5-3050-4d74-9783-b2cf6d7058cd",
   "metadata": {},
   "outputs": [
    {
     "name": "stdout",
     "output_type": "stream",
     "text": [
      "Hola\n"
     ]
    }
   ],
   "source": [
    "hello_spanish_octal = \"\\110\\157\\154\\141\"\n",
    "print (hello_spanish_octal)"
   ]
  },
  {
   "cell_type": "markdown",
   "id": "9c912e43-772c-4433-91cf-ff5a1deb6a34",
   "metadata": {},
   "source": [
    "# \"\\xhh\" # hexadecimal"
   ]
  },
  {
   "cell_type": "code",
   "execution_count": 35,
   "id": "72c3dc24-abf0-4469-87a6-b7e9da49eca2",
   "metadata": {},
   "outputs": [
    {
     "name": "stdout",
     "output_type": "stream",
     "text": [
      "Hola\n"
     ]
    }
   ],
   "source": [
    "hello_spanish_hex = \"\\x48\\x6f\\x6c\\x61\"\n",
    "print (hello_spanish_hex)"
   ]
  },
  {
   "cell_type": "markdown",
   "id": "86949a8b-2ba9-4a82-b1db-8bcf630b203b",
   "metadata": {},
   "source": [
    "## funcion eval"
   ]
  },
  {
   "cell_type": "code",
   "execution_count": 7,
   "id": "3dcdbe52-8d6c-45fe-989f-8acdbd9254a5",
   "metadata": {},
   "outputs": [
    {
     "name": "stdout",
     "output_type": "stream",
     "text": [
      "my_number+1000\n"
     ]
    }
   ],
   "source": [
    "my_number= 22\n",
    "print(\"my_number+1000\")"
   ]
  },
  {
   "cell_type": "code",
   "execution_count": 10,
   "id": "aea52334-9450-42b1-9fbc-eca2c0e1ccb5",
   "metadata": {},
   "outputs": [
    {
     "name": "stdout",
     "output_type": "stream",
     "text": [
      "1022\n"
     ]
    }
   ],
   "source": [
    "my_number= 22\n",
    "print(eval(\"my_number+1000\"))"
   ]
  },
  {
   "cell_type": "code",
   "execution_count": 11,
   "id": "8f32372b-f71c-4ecc-b3fb-918be28c273e",
   "metadata": {},
   "outputs": [
    {
     "name": "stdin",
     "output_type": "stream",
     "text": [
      "ingresa un numero:  123\n"
     ]
    }
   ],
   "source": [
    "my_input = input(\"ingresa un numero: \")"
   ]
  },
  {
   "cell_type": "code",
   "execution_count": 14,
   "id": "0ff6f535-5da4-4312-8890-e64ddd4a0bd5",
   "metadata": {},
   "outputs": [
    {
     "data": {
      "text/plain": [
       "'123'"
      ]
     },
     "execution_count": 14,
     "metadata": {},
     "output_type": "execute_result"
    }
   ],
   "source": [
    "my_input"
   ]
  },
  {
   "cell_type": "code",
   "execution_count": 15,
   "id": "9a6aa296-2a52-4407-8c6e-ed5729e653fa",
   "metadata": {},
   "outputs": [
    {
     "data": {
      "text/plain": [
       "123"
      ]
     },
     "execution_count": 15,
     "metadata": {},
     "output_type": "execute_result"
    }
   ],
   "source": [
    "eval(my_input)"
   ]
  },
  {
   "cell_type": "code",
   "execution_count": 17,
   "id": "e1ee8046-05a6-46f4-9533-6639f08eb473",
   "metadata": {},
   "outputs": [
    {
     "name": "stdin",
     "output_type": "stream",
     "text": [
      "ingresa un numero:  345\n"
     ]
    },
    {
     "name": "stdout",
     "output_type": "stream",
     "text": [
      "345\n"
     ]
    },
    {
     "ename": "NameError",
     "evalue": "name 'tipe' is not defined",
     "output_type": "error",
     "traceback": [
      "\u001b[1;31m---------------------------------------------------------------------------\u001b[0m",
      "\u001b[1;31mNameError\u001b[0m                                 Traceback (most recent call last)",
      "Cell \u001b[1;32mIn[17], line 3\u001b[0m\n\u001b[0;32m      1\u001b[0m my_input \u001b[38;5;241m=\u001b[39m \u001b[38;5;28minput\u001b[39m(\u001b[38;5;124m\"\u001b[39m\u001b[38;5;124mingresa un numero: \u001b[39m\u001b[38;5;124m\"\u001b[39m)\n\u001b[0;32m      2\u001b[0m \u001b[38;5;28mprint\u001b[39m(my_input)\n\u001b[1;32m----> 3\u001b[0m \u001b[38;5;28mprint\u001b[39m(tipe(my_input))\n",
      "\u001b[1;31mNameError\u001b[0m: name 'tipe' is not defined"
     ]
    }
   ],
   "source": [
    "my_input = input(\"ingresa un numero: \")\n",
    "print(my_input)\n",
    "print(tipe(my_input))\n",
    "# cadena / string"
   ]
  },
  {
   "cell_type": "code",
   "execution_count": 18,
   "id": "40b464fb-6821-410b-b433-71c5b72afaa3",
   "metadata": {},
   "outputs": [
    {
     "name": "stdin",
     "output_type": "stream",
     "text": [
      "ingresa un numero:  678\n"
     ]
    },
    {
     "name": "stdout",
     "output_type": "stream",
     "text": [
      "678\n"
     ]
    },
    {
     "ename": "NameError",
     "evalue": "name 'tipe' is not defined",
     "output_type": "error",
     "traceback": [
      "\u001b[1;31m---------------------------------------------------------------------------\u001b[0m",
      "\u001b[1;31mNameError\u001b[0m                                 Traceback (most recent call last)",
      "Cell \u001b[1;32mIn[18], line 3\u001b[0m\n\u001b[0;32m      1\u001b[0m my_input \u001b[38;5;241m=\u001b[39m \u001b[38;5;28meval\u001b[39m(\u001b[38;5;28minput\u001b[39m(\u001b[38;5;124m\"\u001b[39m\u001b[38;5;124mingresa un numero: \u001b[39m\u001b[38;5;124m\"\u001b[39m))\n\u001b[0;32m      2\u001b[0m \u001b[38;5;28mprint\u001b[39m(my_input)\n\u001b[1;32m----> 3\u001b[0m \u001b[38;5;28mprint\u001b[39m(tipe(my_input))\n",
      "\u001b[1;31mNameError\u001b[0m: name 'tipe' is not defined"
     ]
    }
   ],
   "source": [
    "my_input = eval(input(\"ingresa un numero: \"))\n",
    "print(my_input)\n",
    "print(tipe(my_input))\n",
    "# entero / int"
   ]
  },
  {
   "cell_type": "markdown",
   "id": "959cb927-ec90-49d0-99cb-eb5679737a82",
   "metadata": {},
   "source": [
    "# funcion range() y xrange()"
   ]
  },
  {
   "cell_type": "markdown",
   "id": "4fa7ae84-4cf8-4593-9cef-64c799187d60",
   "metadata": {},
   "source": [
    "# range(start, stop, step)"
   ]
  },
  {
   "cell_type": "code",
   "execution_count": 19,
   "id": "7a1611c0-cea2-439e-b578-5e0a29626143",
   "metadata": {},
   "outputs": [],
   "source": [
    "x = range(10)"
   ]
  },
  {
   "cell_type": "code",
   "execution_count": 20,
   "id": "39bb434d-b129-47bb-8b10-3cdefa79bbbe",
   "metadata": {},
   "outputs": [
    {
     "data": {
      "text/plain": [
       "range(0, 10)"
      ]
     },
     "execution_count": 20,
     "metadata": {},
     "output_type": "execute_result"
    }
   ],
   "source": [
    "x"
   ]
  },
  {
   "cell_type": "code",
   "execution_count": 22,
   "id": "913f8a2a-10e1-4b42-bf12-4b1fa242359d",
   "metadata": {},
   "outputs": [
    {
     "name": "stdout",
     "output_type": "stream",
     "text": [
      "0\n",
      "1\n",
      "2\n",
      "3\n",
      "4\n",
      "5\n",
      "6\n",
      "7\n",
      "8\n",
      "9\n"
     ]
    }
   ],
   "source": [
    "for number in x:\n",
    "    print(number)\n",
    "    "
   ]
  },
  {
   "cell_type": "code",
   "execution_count": 24,
   "id": "520483d2-020f-487d-b66f-3a2b5034ddb4",
   "metadata": {
    "scrolled": true
   },
   "outputs": [
    {
     "name": "stdout",
     "output_type": "stream",
     "text": [
      "3\n",
      "4\n",
      "5\n"
     ]
    }
   ],
   "source": [
    "x = range(3,6)\n",
    "for number in x:\n",
    "    print(number)"
   ]
  },
  {
   "cell_type": "markdown",
   "id": "aeeaabaa-e84e-4ab3-a12a-b565afa7ebff",
   "metadata": {},
   "source": [
    "x = range(3,20,2)\n",
    "for number in x:\n",
    "    print(number)"
   ]
  },
  {
   "cell_type": "markdown",
   "id": "fd2e385e-16f2-4f2d-9817-aa2078feb67d",
   "metadata": {},
   "source": [
    "# mutabilidad e inmutabilidad"
   ]
  },
  {
   "cell_type": "code",
   "execution_count": 2,
   "id": "843b9a36-bc73-4730-9597-e070205306c0",
   "metadata": {},
   "outputs": [],
   "source": [
    "tuple1 = (1,2,3,4,5)"
   ]
  },
  {
   "cell_type": "code",
   "execution_count": 3,
   "id": "5030fdd7-8b40-44af-b54b-49cd23550028",
   "metadata": {},
   "outputs": [
    {
     "data": {
      "text/plain": [
       "(1, 2, 3, 4, 5)"
      ]
     },
     "execution_count": 3,
     "metadata": {},
     "output_type": "execute_result"
    }
   ],
   "source": [
    "tuple1"
   ]
  },
  {
   "cell_type": "code",
   "execution_count": 5,
   "id": "c52827ed-006b-4300-8565-50820eec381f",
   "metadata": {},
   "outputs": [
    {
     "ename": "TypeError",
     "evalue": "'tuple' object does not support item assignment",
     "output_type": "error",
     "traceback": [
      "\u001b[1;31m---------------------------------------------------------------------------\u001b[0m",
      "\u001b[1;31mTypeError\u001b[0m                                 Traceback (most recent call last)",
      "Cell \u001b[1;32mIn[5], line 2\u001b[0m\n\u001b[0;32m      1\u001b[0m \u001b[38;5;66;03m#inmutabilidad\u001b[39;00m\n\u001b[1;32m----> 2\u001b[0m tuple1[\u001b[38;5;241m0\u001b[39m] \u001b[38;5;241m=\u001b[39m \u001b[38;5;241m10\u001b[39m\n",
      "\u001b[1;31mTypeError\u001b[0m: 'tuple' object does not support item assignment"
     ]
    }
   ],
   "source": [
    "#inmutabilidad\n",
    "tuple1[0] = 10"
   ]
  },
  {
   "cell_type": "code",
   "execution_count": 6,
   "id": "b8f2fc9a-6067-4a02-8f03-1d3f7102df16",
   "metadata": {},
   "outputs": [],
   "source": [
    "my_string = \"Aprendiedo sobre inmutabilidad\""
   ]
  },
  {
   "cell_type": "code",
   "execution_count": 7,
   "id": "0a79bba3-eb79-46ff-bd1f-a7b6451149b8",
   "metadata": {},
   "outputs": [
    {
     "data": {
      "text/plain": [
       "'Aprendiedo sobre inmutabilidad'"
      ]
     },
     "execution_count": 7,
     "metadata": {},
     "output_type": "execute_result"
    }
   ],
   "source": [
    "my_string "
   ]
  },
  {
   "cell_type": "code",
   "execution_count": 8,
   "id": "3e90f42e-a1ea-4394-958a-80e8b503fa8b",
   "metadata": {},
   "outputs": [
    {
     "ename": "TypeError",
     "evalue": "'str' object does not support item assignment",
     "output_type": "error",
     "traceback": [
      "\u001b[1;31m---------------------------------------------------------------------------\u001b[0m",
      "\u001b[1;31mTypeError\u001b[0m                                 Traceback (most recent call last)",
      "Cell \u001b[1;32mIn[8], line 1\u001b[0m\n\u001b[1;32m----> 1\u001b[0m my_string[\u001b[38;5;241m0\u001b[39m] \u001b[38;5;241m=\u001b[39m \u001b[38;5;124m\"\u001b[39m\u001b[38;5;124ma\u001b[39m\u001b[38;5;124m\"\u001b[39m\n",
      "\u001b[1;31mTypeError\u001b[0m: 'str' object does not support item assignment"
     ]
    }
   ],
   "source": [
    "my_string[0] = \"a\" "
   ]
  },
  {
   "cell_type": "code",
   "execution_count": 9,
   "id": "5fa3b123-294b-47d0-a1fc-1f1911b65b74",
   "metadata": {},
   "outputs": [],
   "source": [
    "colors = [\"rojo\", \"azul\", \"verde\",  \"negro\"]"
   ]
  },
  {
   "cell_type": "code",
   "execution_count": 10,
   "id": "6919df21-cf69-4633-8d9f-82e96d3aa38b",
   "metadata": {},
   "outputs": [
    {
     "data": {
      "text/plain": [
       "['rojo', 'azul', 'verde', 'negro']"
      ]
     },
     "execution_count": 10,
     "metadata": {},
     "output_type": "execute_result"
    }
   ],
   "source": [
    "colors"
   ]
  },
  {
   "cell_type": "code",
   "execution_count": 11,
   "id": "fe4f32d6-0b11-412f-b3a6-7e87ae218772",
   "metadata": {},
   "outputs": [],
   "source": [
    "colors[0] = \"blanco\""
   ]
  },
  {
   "cell_type": "code",
   "execution_count": 12,
   "id": "34e85be7-c0b5-45b2-86b7-181ba972fc8d",
   "metadata": {},
   "outputs": [
    {
     "data": {
      "text/plain": [
       "['blanco', 'azul', 'verde', 'negro']"
      ]
     },
     "execution_count": 12,
     "metadata": {},
     "output_type": "execute_result"
    }
   ],
   "source": [
    "colors"
   ]
  },
  {
   "cell_type": "markdown",
   "id": "57d741f4-f5c4-4c4e-a64f-10db2f8bd53a",
   "metadata": {},
   "source": [
    "## funcion print()"
   ]
  },
  {
   "cell_type": "code",
   "execution_count": 15,
   "id": "f4eec4ab-172a-4fe2-b4c2-023c73eb31f3",
   "metadata": {},
   "outputs": [],
   "source": [
    "# mostrar un resultado"
   ]
  },
  {
   "cell_type": "code",
   "execution_count": 16,
   "id": "2494f159-a455-4543-b613-b876f891ddc6",
   "metadata": {},
   "outputs": [
    {
     "name": "stdout",
     "output_type": "stream",
     "text": [
      "el valor de my_variable es:  567\n"
     ]
    }
   ],
   "source": [
    "my_variable = 567\n",
    "print (\"el valor de my_variable es: \", my_variable)"
   ]
  },
  {
   "cell_type": "code",
   "execution_count": 18,
   "id": "ccb7da2d-2d8d-4639-8847-0472f1053d2c",
   "metadata": {},
   "outputs": [
    {
     "name": "stdout",
     "output_type": "stream",
     "text": [
      "el valor de d es:   800\n"
     ]
    }
   ],
   "source": [
    "a=100\n",
    "b=500\n",
    "c=200\n",
    "d=a+b+c\n",
    "print (\"el valor de d es:  \", d)"
   ]
  },
  {
   "cell_type": "code",
   "execution_count": 22,
   "id": "385ac430-7c43-40ee-9a51-2d039b798831",
   "metadata": {},
   "outputs": [],
   "source": [
    "import builtins"
   ]
  },
  {
   "cell_type": "code",
   "execution_count": 23,
   "id": "729997f3-672d-4324-aa21-3b34cfae7dc8",
   "metadata": {},
   "outputs": [
    {
     "name": "stdout",
     "output_type": "stream",
     "text": [
      "Help on built-in function print in module builtins:\n",
      "\n",
      "print(*args, sep=' ', end='\\n', file=None, flush=False)\n",
      "    Prints the values to a stream, or to sys.stdout by default.\n",
      "\n",
      "    sep\n",
      "      string inserted between values, default a space.\n",
      "    end\n",
      "      string appended after the last value, default a newline.\n",
      "    file\n",
      "      a file-like object (stream); defaults to the current sys.stdout.\n",
      "    flush\n",
      "      whether to forcibly flush the stream.\n",
      "\n"
     ]
    }
   ],
   "source": [
    "help (builtins.print)"
   ]
  },
  {
   "cell_type": "code",
   "execution_count": 24,
   "id": "009fa47d-8e8d-43d7-bdd7-1efad45e8f32",
   "metadata": {},
   "outputs": [
    {
     "name": "stdout",
     "output_type": "stream",
     "text": [
      "Help on built-in function print in module builtins:\n",
      "\n",
      "print(*args, sep=' ', end='\\n', file=None, flush=False)\n",
      "    Prints the values to a stream, or to sys.stdout by default.\n",
      "\n",
      "    sep\n",
      "      string inserted between values, default a space.\n",
      "    end\n",
      "      string appended after the last value, default a newline.\n",
      "    file\n",
      "      a file-like object (stream); defaults to the current sys.stdout.\n",
      "    flush\n",
      "      whether to forcibly flush the stream.\n",
      "\n"
     ]
    }
   ],
   "source": [
    "help (print)"
   ]
  },
  {
   "cell_type": "code",
   "execution_count": 28,
   "id": "ce6967f2-f2f4-4e1e-aeaf-13d254ddefa5",
   "metadata": {},
   "outputs": [
    {
     "data": {
      "text/plain": [
       "['ArithmeticError',\n",
       " 'AssertionError',\n",
       " 'AttributeError',\n",
       " 'BaseException',\n",
       " 'BaseExceptionGroup',\n",
       " 'BlockingIOError',\n",
       " 'BrokenPipeError',\n",
       " 'BufferError',\n",
       " 'BytesWarning',\n",
       " 'ChildProcessError',\n",
       " 'ConnectionAbortedError',\n",
       " 'ConnectionError',\n",
       " 'ConnectionRefusedError',\n",
       " 'ConnectionResetError',\n",
       " 'DeprecationWarning',\n",
       " 'EOFError',\n",
       " 'Ellipsis',\n",
       " 'EncodingWarning',\n",
       " 'EnvironmentError',\n",
       " 'Exception',\n",
       " 'ExceptionGroup',\n",
       " 'False',\n",
       " 'FileExistsError',\n",
       " 'FileNotFoundError',\n",
       " 'FloatingPointError',\n",
       " 'FutureWarning',\n",
       " 'GeneratorExit',\n",
       " 'IOError',\n",
       " 'ImportError',\n",
       " 'ImportWarning',\n",
       " 'IndentationError',\n",
       " 'IndexError',\n",
       " 'InterruptedError',\n",
       " 'IsADirectoryError',\n",
       " 'KeyError',\n",
       " 'KeyboardInterrupt',\n",
       " 'LookupError',\n",
       " 'MemoryError',\n",
       " 'ModuleNotFoundError',\n",
       " 'NameError',\n",
       " 'None',\n",
       " 'NotADirectoryError',\n",
       " 'NotImplemented',\n",
       " 'NotImplementedError',\n",
       " 'OSError',\n",
       " 'OverflowError',\n",
       " 'PendingDeprecationWarning',\n",
       " 'PermissionError',\n",
       " 'ProcessLookupError',\n",
       " 'RecursionError',\n",
       " 'ReferenceError',\n",
       " 'ResourceWarning',\n",
       " 'RuntimeError',\n",
       " 'RuntimeWarning',\n",
       " 'StopAsyncIteration',\n",
       " 'StopIteration',\n",
       " 'SyntaxError',\n",
       " 'SyntaxWarning',\n",
       " 'SystemError',\n",
       " 'SystemExit',\n",
       " 'TabError',\n",
       " 'TimeoutError',\n",
       " 'True',\n",
       " 'TypeError',\n",
       " 'UnboundLocalError',\n",
       " 'UnicodeDecodeError',\n",
       " 'UnicodeEncodeError',\n",
       " 'UnicodeError',\n",
       " 'UnicodeTranslateError',\n",
       " 'UnicodeWarning',\n",
       " 'UserWarning',\n",
       " 'ValueError',\n",
       " 'Warning',\n",
       " 'WindowsError',\n",
       " 'ZeroDivisionError',\n",
       " '__IPYTHON__',\n",
       " '__build_class__',\n",
       " '__debug__',\n",
       " '__doc__',\n",
       " '__import__',\n",
       " '__loader__',\n",
       " '__name__',\n",
       " '__package__',\n",
       " '__spec__',\n",
       " 'abs',\n",
       " 'aiter',\n",
       " 'all',\n",
       " 'anext',\n",
       " 'any',\n",
       " 'ascii',\n",
       " 'bin',\n",
       " 'bool',\n",
       " 'breakpoint',\n",
       " 'bytearray',\n",
       " 'bytes',\n",
       " 'callable',\n",
       " 'chr',\n",
       " 'classmethod',\n",
       " 'compile',\n",
       " 'complex',\n",
       " 'copyright',\n",
       " 'credits',\n",
       " 'delattr',\n",
       " 'dict',\n",
       " 'dir',\n",
       " 'display',\n",
       " 'divmod',\n",
       " 'enumerate',\n",
       " 'eval',\n",
       " 'exec',\n",
       " 'execfile',\n",
       " 'filter',\n",
       " 'float',\n",
       " 'format',\n",
       " 'frozenset',\n",
       " 'get_ipython',\n",
       " 'getattr',\n",
       " 'globals',\n",
       " 'hasattr',\n",
       " 'hash',\n",
       " 'help',\n",
       " 'hex',\n",
       " 'id',\n",
       " 'input',\n",
       " 'int',\n",
       " 'isinstance',\n",
       " 'issubclass',\n",
       " 'iter',\n",
       " 'len',\n",
       " 'license',\n",
       " 'list',\n",
       " 'locals',\n",
       " 'map',\n",
       " 'max',\n",
       " 'memoryview',\n",
       " 'min',\n",
       " 'next',\n",
       " 'object',\n",
       " 'oct',\n",
       " 'open',\n",
       " 'ord',\n",
       " 'pow',\n",
       " 'print',\n",
       " 'property',\n",
       " 'range',\n",
       " 'repr',\n",
       " 'reversed',\n",
       " 'round',\n",
       " 'runfile',\n",
       " 'set',\n",
       " 'setattr',\n",
       " 'slice',\n",
       " 'sorted',\n",
       " 'staticmethod',\n",
       " 'str',\n",
       " 'sum',\n",
       " 'super',\n",
       " 'tuple',\n",
       " 'type',\n",
       " 'vars',\n",
       " 'zip']"
      ]
     },
     "execution_count": 28,
     "metadata": {},
     "output_type": "execute_result"
    }
   ],
   "source": [
    "dir(builtins)"
   ]
  },
  {
   "cell_type": "markdown",
   "id": "89ecbf58-f84d-4fd1-b334-847179d0c0dd",
   "metadata": {},
   "source": [
    "# Funcion type()"
   ]
  },
  {
   "cell_type": "code",
   "execution_count": 29,
   "id": "8bd84bc8-8f95-4ac2-8db1-5855826ca3f0",
   "metadata": {},
   "outputs": [
    {
     "name": "stdout",
     "output_type": "stream",
     "text": [
      "570\n"
     ]
    }
   ],
   "source": [
    "my_number=570\n",
    "print(my_number)"
   ]
  },
  {
   "cell_type": "code",
   "execution_count": 30,
   "id": "e3dc60fe-0c76-4f96-8f4d-652086ebd95b",
   "metadata": {},
   "outputs": [
    {
     "name": "stdout",
     "output_type": "stream",
     "text": [
      "570\n",
      "<class 'int'>\n"
     ]
    }
   ],
   "source": [
    "# Entero/int \n",
    "my_number=570\n",
    "print(my_number)\n",
    "print (type(my_number))"
   ]
  },
  {
   "cell_type": "code",
   "execution_count": 31,
   "id": "52f5a073-c0a9-43f3-9af1-747cd11cefe5",
   "metadata": {},
   "outputs": [
    {
     "name": "stdout",
     "output_type": "stream",
     "text": [
      "Backend Python\n",
      "<class 'str'>\n"
     ]
    }
   ],
   "source": [
    "# Cadenas/string\n",
    "my_string = \"Backend Python\"\n",
    "print (my_string)\n",
    "print (type(my_string))"
   ]
  },
  {
   "cell_type": "code",
   "execution_count": 1,
   "id": "3f0ea592-bae5-4636-bdce-a3be0552e10a",
   "metadata": {},
   "outputs": [
    {
     "name": "stdout",
     "output_type": "stream",
     "text": [
      "3.97\n",
      "<class 'float'>\n"
     ]
    }
   ],
   "source": [
    "# flotantes/float\n",
    "my_float = 3.97\n",
    "print(my_float)\n",
    "print(type(my_float))\n"
   ]
  },
  {
   "cell_type": "code",
   "execution_count": 2,
   "id": "64f7a374-8033-426b-bced-d386819c3ade",
   "metadata": {},
   "outputs": [
    {
     "name": "stdout",
     "output_type": "stream",
     "text": [
      "\n",
      "<class 'str'>\n"
     ]
    }
   ],
   "source": [
    "# cadenas/strings\n",
    "my_string = \"\"\n",
    "print (my_string) \n",
    "print(type(my_string))"
   ]
  },
  {
   "cell_type": "code",
   "execution_count": 4,
   "id": "9043af8d-358c-4c53-ad34-3b6b07c42e46",
   "metadata": {},
   "outputs": [
    {
     "name": "stdout",
     "output_type": "stream",
     "text": [
      "True\n",
      "<class 'bool'>\n"
     ]
    }
   ],
   "source": [
    "#boolean\n",
    "my_boolean = True\n",
    "print(my_boolean)\n",
    "print(type(my_boolean))"
   ]
  },
  {
   "cell_type": "code",
   "execution_count": 5,
   "id": "69bb1e38-e0b7-4fdc-a82f-c928012f2db4",
   "metadata": {},
   "outputs": [
    {
     "name": "stdout",
     "output_type": "stream",
     "text": [
      "False\n",
      "<class 'bool'>\n"
     ]
    }
   ],
   "source": [
    "my_boolean = False\n",
    "print(my_boolean)\n",
    "print(type(my_boolean))"
   ]
  },
  {
   "cell_type": "code",
   "execution_count": 6,
   "id": "53ee7676-27f1-4755-8257-84f3ab4d8a05",
   "metadata": {},
   "outputs": [
    {
     "name": "stdout",
     "output_type": "stream",
     "text": [
      "False\n",
      "<class 'str'>\n"
     ]
    }
   ],
   "source": [
    "#cadena / string\n",
    "my_string = \"False\"\n",
    "print(my_string)\n",
    "print(type(my_string))"
   ]
  },
  {
   "cell_type": "code",
   "execution_count": 7,
   "id": "89e99da7-3608-4d7a-b94b-aff03b57108b",
   "metadata": {},
   "outputs": [
    {
     "name": "stdout",
     "output_type": "stream",
     "text": [
      "[1, 7, 4, 2]\n",
      "<class 'list'>\n"
     ]
    }
   ],
   "source": [
    "# listas / list\n",
    "my_list = [1,7,4,2]\n",
    "print(my_list)\n",
    "print(type(my_list))"
   ]
  },
  {
   "cell_type": "code",
   "execution_count": 12,
   "id": "4064f7eb-bc57-4920-bc68-48a71d66b7cd",
   "metadata": {},
   "outputs": [
    {
     "name": "stdout",
     "output_type": "stream",
     "text": [
      "(3, 8, 2, 5)\n",
      "<class 'tuple'>\n"
     ]
    }
   ],
   "source": [
    "#tuplas / tuple\n",
    "my_tuple = (3,8,2,5)\n",
    "print(my_tuple)\n",
    "print(type(my_tuple))\n"
   ]
  },
  {
   "cell_type": "code",
   "execution_count": 10,
   "id": "3c343979-29f2-415f-aac8-d40e0b3d4edb",
   "metadata": {},
   "outputs": [
    {
     "name": "stdout",
     "output_type": "stream",
     "text": [
      "{1, 2.5, 'Python', 4}\n",
      "<class 'set'>\n"
     ]
    }
   ],
   "source": [
    "#set\n",
    "my_set = {4,1, \"Python\", 2.5 }\n",
    "print(my_set)\n",
    "print(type(my_set))"
   ]
  },
  {
   "cell_type": "code",
   "execution_count": 15,
   "id": "53e0b8a2-45fe-4051-b088-5a2b440d0f15",
   "metadata": {},
   "outputs": [
    {
     "name": "stdout",
     "output_type": "stream",
     "text": [
      "{'a': 20, 'b': 50, 'c': 35}\n",
      "<class 'dict'>\n"
     ]
    }
   ],
   "source": [
    "#Diccionarios/ dict\n",
    "my_dictionary = {\"a\":20, \"b\":50, \"c\":35}\n",
    "print(my_dictionary)\n",
    "print(type(my_dictionary))"
   ]
  },
  {
   "cell_type": "markdown",
   "id": "7ae049c3-cb9d-417d-b52c-eddde08ff47b",
   "metadata": {},
   "source": [
    "## Funcion id ()"
   ]
  },
  {
   "cell_type": "markdown",
   "id": "28038399-ac5d-4b45-b772-d60a14535418",
   "metadata": {},
   "source": [
    "###  id() funcion para obtener la direccion de memoria"
   ]
  },
  {
   "cell_type": "code",
   "execution_count": 18,
   "id": "af56a79e-2ab8-4d65-a358-b90361331d92",
   "metadata": {},
   "outputs": [
    {
     "name": "stdout",
     "output_type": "stream",
     "text": [
      "Python\n",
      "<class 'str'>\n",
      "140735407276112\n"
     ]
    }
   ],
   "source": [
    "#cadena / string\n",
    "my_string = \"Python\"\n",
    "print(my_string)\n",
    "print(type(my_string))\n",
    "print(id(my_string))"
   ]
  },
  {
   "cell_type": "code",
   "execution_count": 19,
   "id": "3494989a-7f36-44fb-89c2-227ce57249b4",
   "metadata": {},
   "outputs": [
    {
     "name": "stdout",
     "output_type": "stream",
     "text": [
      "Backend\n",
      "<class 'str'>\n",
      "2203639285440\n"
     ]
    }
   ],
   "source": [
    "#cadena / string\n",
    "my_string2 = \"Backend\"\n",
    "print(my_string2)\n",
    "print(type(my_string2))\n",
    "print(id(my_string2))"
   ]
  },
  {
   "cell_type": "code",
   "execution_count": 20,
   "id": "ef69e6da-830e-4b26-9f5e-b7d8cde08ab5",
   "metadata": {},
   "outputs": [
    {
     "name": "stdout",
     "output_type": "stream",
     "text": [
      "Python\n",
      "Python\n",
      "<class 'str'>\n",
      "<class 'str'>\n",
      "140735407276112\n",
      "140735407276112\n"
     ]
    }
   ],
   "source": [
    "#cadena / string\n",
    "my_string = \"Python\"\n",
    "my_string3 = \"Python\"\n",
    "print(my_string)\n",
    "print(my_string3)\n",
    "print(type(my_string))\n",
    "print(type(my_string3))\n",
    "print(id(my_string))\n",
    "print(id(my_string3))"
   ]
  },
  {
   "cell_type": "markdown",
   "id": "70db03cd-fadb-4cad-a225-adb4e7fdd266",
   "metadata": {},
   "source": [
    "## multiples valores de entrada"
   ]
  },
  {
   "cell_type": "code",
   "execution_count": 1,
   "id": "b7c08270-5025-4c2d-b8a1-c333bc5e020c",
   "metadata": {},
   "outputs": [
    {
     "name": "stdin",
     "output_type": "stream",
     "text": [
      "ingresa el valor de my_number:   670\n"
     ]
    },
    {
     "name": "stdout",
     "output_type": "stream",
     "text": [
      "el valor de my_number es:   670\n"
     ]
    }
   ],
   "source": [
    "my_number = input(\"ingresa el valor de my_number: \")\n",
    "print(\"el valor de my_number es: \", my_number)"
   ]
  },
  {
   "cell_type": "code",
   "execution_count": 2,
   "id": "4017331e-3e6f-481a-b0f8-6b1bc019d2e8",
   "metadata": {},
   "outputs": [
    {
     "name": "stdin",
     "output_type": "stream",
     "text": [
      "ingresa los tres valores:   100 200 300\n"
     ]
    },
    {
     "name": "stdout",
     "output_type": "stream",
     "text": [
      "el valor de a es:  100\n",
      "el valor de b es:  200\n",
      "el valor de c es:  300\n"
     ]
    }
   ],
   "source": [
    "a,b,c = input(\"ingresa los tres valores separados por coma: \").split() \n",
    "print(\"el valor de a es: \",a)\n",
    "print(\"el valor de b es: \",b)\n",
    "print(\"el valor de c es: \",c)"
   ]
  },
  {
   "cell_type": "code",
   "execution_count": 3,
   "id": "3b872898-f194-48bf-b887-74fa27441907",
   "metadata": {},
   "outputs": [
    {
     "name": "stdin",
     "output_type": "stream",
     "text": [
      "ingresa los tres valores:   500,600,700\n"
     ]
    },
    {
     "name": "stdout",
     "output_type": "stream",
     "text": [
      "el valor de a es:   500\n",
      "el valor de b es:  600\n",
      "el valor de c es:  700\n"
     ]
    }
   ],
   "source": [
    "a,b,c = input(\"ingresa los tres valores: \").split(\",\") \n",
    "print(\"el valor de a es: \",a)\n",
    "print(\"el valor de b es: \",b)\n",
    "print(\"el valor de c es: \",c)"
   ]
  },
  {
   "cell_type": "code",
   "execution_count": null,
   "id": "73ac7e2a-16c5-4681-8b51-ce6503c8c1de",
   "metadata": {},
   "outputs": [],
   "source": []
  }
 ],
 "metadata": {
  "kernelspec": {
   "display_name": "Python 3 (ipykernel)",
   "language": "python",
   "name": "python3"
  },
  "language_info": {
   "codemirror_mode": {
    "name": "ipython",
    "version": 3
   },
   "file_extension": ".py",
   "mimetype": "text/x-python",
   "name": "python",
   "nbconvert_exporter": "python",
   "pygments_lexer": "ipython3",
   "version": "3.12.4"
  }
 },
 "nbformat": 4,
 "nbformat_minor": 5
}
