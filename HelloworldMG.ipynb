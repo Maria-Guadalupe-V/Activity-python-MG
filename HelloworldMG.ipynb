{
 "cells": [
  {
   "cell_type": "code",
   "execution_count": 1,
   "id": "097f0f37-2c62-4e71-8683-2ae60092c20b",
   "metadata": {},
   "outputs": [
    {
     "name": "stdout",
     "output_type": "stream",
     "text": [
      "HolaMundo\n"
     ]
    }
   ],
   "source": [
    "print (\"HolaMundo\")"
   ]
  },
  {
   "cell_type": "code",
   "execution_count": 2,
   "id": "4b1bfc0f-3d90-4733-be6f-84e45f8fea90",
   "metadata": {},
   "outputs": [
    {
     "name": "stdout",
     "output_type": "stream",
     "text": [
      "Helloworld\n"
     ]
    }
   ],
   "source": [
    "print (\"Helloworld\")"
   ]
  },
  {
   "cell_type": "code",
   "execution_count": null,
   "id": "7d086fad-0c2b-44c6-b2b1-230d96b3444d",
   "metadata": {},
   "outputs": [],
   "source": []
  }
 ],
 "metadata": {
  "kernelspec": {
   "display_name": "Python 3 (ipykernel)",
   "language": "python",
   "name": "python3"
  },
  "language_info": {
   "codemirror_mode": {
    "name": "ipython",
    "version": 3
   },
   "file_extension": ".py",
   "mimetype": "text/x-python",
   "name": "python",
   "nbconvert_exporter": "python",
   "pygments_lexer": "ipython3",
   "version": "3.12.4"
  }
 },
 "nbformat": 4,
 "nbformat_minor": 5
}
